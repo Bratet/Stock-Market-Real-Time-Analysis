{
 "cells": [
  {
   "cell_type": "markdown",
   "metadata": {},
   "source": [
    "# Data Processing"
   ]
  },
  {
   "cell_type": "markdown",
   "metadata": {},
   "source": [
    "## Data Aggregation"
   ]
  },
  {
   "cell_type": "code",
   "execution_count": 24,
   "metadata": {},
   "outputs": [],
   "source": [
    "import pandas as pd"
   ]
  },
  {
   "cell_type": "code",
   "execution_count": 25,
   "metadata": {},
   "outputs": [],
   "source": [
    "# read the two csv files\n",
    "tweet_df = pd.read_csv(\"../data/tweet_data.csv\")\n",
    "stock_df = pd.read_csv(\"../data/stock_data.csv\")"
   ]
  },
  {
   "cell_type": "code",
   "execution_count": 26,
   "metadata": {},
   "outputs": [],
   "source": [
    "# transform the date column in the stock data to datetime and keep the date \n",
    "stock_df['Date'] = pd.to_datetime(stock_df['Date'])\n",
    "stock_df['Date'] = stock_df['Date'].dt.date"
   ]
  },
  {
   "cell_type": "code",
   "execution_count": 27,
   "metadata": {},
   "outputs": [],
   "source": [
    "# Transform the date column in the tweet data to datetime and keep the date\n",
    "tweet_df['Date'] = pd.to_datetime(tweet_df['Date'])\n",
    "tweet_df['Date'] = tweet_df['Date'].dt.date"
   ]
  },
  {
   "cell_type": "code",
   "execution_count": 28,
   "metadata": {},
   "outputs": [],
   "source": [
    "# drop the full company name column from the tweet data\n",
    "tweet_df.drop('Company Name', axis=1, inplace=True)"
   ]
  },
  {
   "cell_type": "code",
   "execution_count": 29,
   "metadata": {},
   "outputs": [
    {
     "name": "stdout",
     "output_type": "stream",
     "text": [
      "Tweet Data Columns: \n",
      "Date\n",
      "Tweet\n",
      "Stock Name\n",
      "\n",
      "Stock Data Columns: \n",
      "Date\n",
      "Open\n",
      "High\n",
      "Low\n",
      "Close\n",
      "Adj Close\n",
      "Volume\n",
      "Stock Name\n"
     ]
    }
   ],
   "source": [
    "# print the columns of the two dataframes\n",
    "print(\"Tweet Data Columns: \")\n",
    "for col in tweet_df.columns:\n",
    "    print(col)\n",
    "print()\n",
    "print(\"Stock Data Columns: \")\n",
    "for col in stock_df.columns:\n",
    "    print(col)"
   ]
  },
  {
   "cell_type": "code",
   "execution_count": 30,
   "metadata": {},
   "outputs": [
    {
     "name": "stdout",
     "output_type": "stream",
     "text": [
      "Number of dates in both data:  252\n"
     ]
    }
   ],
   "source": [
    "# check how many dates figure in both dataframes\n",
    "print(\"Number of dates in both data: \", len(set(tweet_df['Date'].unique()) & set(stock_df['Date'].unique())))"
   ]
  },
  {
   "cell_type": "code",
   "execution_count": 36,
   "metadata": {},
   "outputs": [],
   "source": [
    "# join the two dataframes on the date column\n",
    "joined_df = pd.merge(tweet_df, stock_df, \n",
    "                     on=['Date', 'Stock Name'], \n",
    "                     how='left')"
   ]
  },
  {
   "cell_type": "code",
   "execution_count": 40,
   "metadata": {},
   "outputs": [
    {
     "name": "stdout",
     "output_type": "stream",
     "text": [
      "Joined Data Columns: \n",
      "Date\n",
      "Tweet\n",
      "Stock Name\n",
      "Open\n",
      "High\n",
      "Low\n",
      "Close\n",
      "Adj Close\n",
      "Volume\n",
      "Joined Data Shape:  (80793, 9)\n"
     ]
    }
   ],
   "source": [
    "# print the columns of the joined dataframe\n",
    "print(\"Joined Data Columns: \")\n",
    "for col in joined_df.columns:\n",
    "    print(col)\n",
    "\n",
    "# print the shape of the joined dataframe\n",
    "print(\"Joined Data Shape: \", joined_df.shape)"
   ]
  },
  {
   "cell_type": "code",
   "execution_count": 41,
   "metadata": {},
   "outputs": [],
   "source": [
    "# save the new dataframe to a csv file\n",
    "joined_df.to_csv(\"../data/joined_data.csv\", index=False)"
   ]
  },
  {
   "cell_type": "markdown",
   "metadata": {},
   "source": [
    "## Data Cleaning"
   ]
  },
  {
   "cell_type": "markdown",
   "metadata": {},
   "source": []
  }
 ],
 "metadata": {
  "kernelspec": {
   "display_name": "Machine Learning",
   "language": "python",
   "name": "python3"
  },
  "language_info": {
   "codemirror_mode": {
    "name": "ipython",
    "version": 3
   },
   "file_extension": ".py",
   "mimetype": "text/x-python",
   "name": "python",
   "nbconvert_exporter": "python",
   "pygments_lexer": "ipython3",
   "version": "3.10.11"
  }
 },
 "nbformat": 4,
 "nbformat_minor": 2
}
